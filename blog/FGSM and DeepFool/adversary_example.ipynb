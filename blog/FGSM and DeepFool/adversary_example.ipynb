{
 "cells": [
  {
   "cell_type": "markdown",
   "metadata": {
    "heading_collapsed": true
   },
   "source": [
    "### 导入需要的库"
   ]
  },
  {
   "cell_type": "code",
   "execution_count": 1,
   "metadata": {
    "ExecuteTime": {
     "end_time": "2019-08-21T11:45:55.591324Z",
     "start_time": "2019-08-21T11:45:46.932443Z"
    },
    "hidden": true
   },
   "outputs": [],
   "source": [
    "import numpy as np\n",
    "import torch\n",
    "import torch.nn as nn\n",
    "from torch.autograd import Variable\n",
    "import torch.nn.functional as F\n",
    "import torchvision\n",
    "import torch.optim as optim\n",
    "from torchvision import transforms\n",
    "from tqdm import *\n",
    "import matplotlib.pyplot as plt\n",
    "import copy\n",
    "from torch.autograd.gradcheck import zero_gradients"
   ]
  },
  {
   "cell_type": "markdown",
   "metadata": {
    "heading_collapsed": true
   },
   "source": [
    "### 建立目标模型"
   ]
  },
  {
   "cell_type": "code",
   "execution_count": 2,
   "metadata": {
    "ExecuteTime": {
     "end_time": "2019-08-21T11:45:55.620210Z",
     "start_time": "2019-08-21T11:45:55.601262Z"
    },
    "hidden": true
   },
   "outputs": [],
   "source": [
    "class Net(nn.Module):\n",
    "    def __init__(self):\n",
    "        super(Net, self).__init__()\n",
    "        self.fc1 = nn.Linear(28*28, 300)\n",
    "        self.fc2 = nn.Linear(300, 100)\n",
    "        self.fc3 = nn.Linear(100, 10)\n",
    "    def forward(self, x):\n",
    "        x = F.relu(self.fc1(x))\n",
    "        x = F.relu(self.fc2(x))\n",
    "        x = self.fc3(x)\n",
    "        return x"
   ]
  },
  {
   "cell_type": "markdown",
   "metadata": {
    "heading_collapsed": true
   },
   "source": [
    "### 加载数据集\n",
    "* 对数据集进行处理时，当官方提供的方法并不能够满足你的需要，这时候你就需要自定义自己的transform策略方法就是使用transforms.Lambda。"
   ]
  },
  {
   "cell_type": "code",
   "execution_count": 3,
   "metadata": {
    "ExecuteTime": {
     "end_time": "2019-08-21T11:45:56.643499Z",
     "start_time": "2019-08-21T11:45:55.634175Z"
    },
    "hidden": true
   },
   "outputs": [],
   "source": [
    "# 定义数据转换格式\n",
    "mnist_transform = transforms.Compose([transforms.ToTensor(), transforms.Lambda(lambda x : x.resize_(28*28))])\n",
    "# 导入数据，定义数据接口\n",
    "traindata = torchvision.datasets.MNIST(root=\"./mnist\", train=True, download=True, transform=mnist_transform)\n",
    "testdata  = torchvision.datasets.MNIST(root=\"./mnist\", train=False, download=True, transform=mnist_transform)\n",
    "trainloader = torch.utils.data.DataLoader(traindata, batch_size=256, shuffle=True, num_workers=0)\n",
    "testloader = torch.utils.data.DataLoader(testdata, batch_size=256, shuffle=True, num_workers=0)"
   ]
  },
  {
   "cell_type": "code",
   "execution_count": 62,
   "metadata": {
    "ExecuteTime": {
     "end_time": "2019-08-15T14:49:03.901094Z",
     "start_time": "2019-08-15T14:49:03.689870Z"
    },
    "hidden": true
   },
   "outputs": [
    {
     "data": {
      "text/plain": [
       "<matplotlib.image.AxesImage at 0x25134df9588>"
      ]
     },
     "execution_count": 62,
     "metadata": {},
     "output_type": "execute_result"
    },
    {
     "data": {
      "image/png": "[encoded data removed]",
      "text/plain": [
       "<Figure size 432x288 with 1 Axes>"
      ]
     },
     "metadata": {
      "needs_background": "light"
     },
     "output_type": "display_data"
    }
   ],
   "source": [
    "# 展示图片\n",
    "index = 100\n",
    "image = testdata[index][0]\n",
    "label = testdata[index][1]\n",
    "image.resize_(28,28)\n",
    "img = transforms.ToPILImage()(image)\n",
    "plt.imshow(img)"
   ]
  },
  {
   "cell_type": "code",
   "execution_count": 63,
   "metadata": {
    "ExecuteTime": {
     "end_time": "2019-08-15T14:49:05.485047Z",
     "start_time": "2019-08-15T14:49:05.228026Z"
    },
    "hidden": true
   },
   "outputs": [
    {
     "data": {
      "text/plain": [
       "<matplotlib.image.AxesImage at 0x25134a87ef0>"
      ]
     },
     "execution_count": 63,
     "metadata": {},
     "output_type": "execute_result"
    },
    {
     "data": {
      "image/png": "[encoded data removed]",
      "text/plain": [
       "<Figure size 432x288 with 1 Axes>"
      ]
     },
     "metadata": {
      "needs_background": "light"
     },
     "output_type": "display_data"
    }
   ],
   "source": [
    "# 展示图片\n",
    "index = 100\n",
    "batch = iter(testloader).next() #将testloader转换为迭代器\n",
    "image = batch[0][index]\n",
    "label = batch[1][index]\n",
    "image.resize_(28,28)\n",
    "img = transforms.ToPILImage()(image)\n",
    "plt.imshow(img)"
   ]
  },
  {
   "cell_type": "markdown",
   "metadata": {
    "heading_collapsed": true
   },
   "source": [
    "### 初始化模型、选择代价函数及优化器"
   ]
  },
  {
   "cell_type": "code",
   "execution_count": 4,
   "metadata": {
    "ExecuteTime": {
     "end_time": "2019-08-21T11:46:06.483174Z",
     "start_time": "2019-08-21T11:46:06.237811Z"
    },
    "hidden": true
   },
   "outputs": [],
   "source": [
    "net = Net()\n",
    "loss_function = nn.CrossEntropyLoss()\n",
    "optimizer = optim.SGD(net.parameters(), lr=0.001, momentum=0.9, weight_decay=1e-04)"
   ]
  },
  {
   "cell_type": "markdown",
   "metadata": {
    "heading_collapsed": true
   },
   "source": [
    "### 训练分类模型"
   ]
  },
  {
   "cell_type": "code",
   "execution_count": 75,
   "metadata": {
    "ExecuteTime": {
     "end_time": "2019-08-15T15:18:50.604439Z",
     "start_time": "2019-08-15T15:02:55.866433Z"
    },
    "hidden": true
   },
   "outputs": [
    {
     "name": "stderr",
     "output_type": "stream",
     "text": [
      "\n",
      "\n",
      "  0%|                                        | 0/50 [00:00<?, ?it/s]"
     ]
    },
    {
     "name": "stdout",
     "output_type": "stream",
     "text": [
      "*****************当前平均损失为0.04165983649343252*****************\n"
     ]
    },
    {
     "name": "stderr",
     "output_type": "stream",
     "text": [
      "\n",
      "\n",
      "  2%|▋                               | 1/50 [00:17<14:38, 17.92s/it]"
     ]
    },
    {
     "name": "stdout",
     "output_type": "stream",
     "text": [
      "*****************当前平均损失为0.040492160968482495*****************\n"
     ]
    },
    {
     "name": "stderr",
     "output_type": "stream",
     "text": [
      "\n",
      "\n",
      "  4%|█▎                              | 2/50 [00:36<14:23, 17.99s/it]"
     ]
    },
    {
     "name": "stdout",
     "output_type": "stream",
     "text": [
      "*****************当前平均损失为0.039521223597228525*****************\n"
     ]
    },
    {
     "name": "stderr",
     "output_type": "stream",
     "text": [
      "\n",
      "\n",
      "  6%|█▉                              | 3/50 [00:54<14:10, 18.09s/it]"
     ]
    },
    {
     "name": "stdout",
     "output_type": "stream",
     "text": [
      "*****************当前平均损失为0.03851877588778734*****************\n"
     ]
    },
    {
     "name": "stderr",
     "output_type": "stream",
     "text": [
      "\n",
      "\n",
      "  8%|██▌                             | 4/50 [01:12<13:48, 18.02s/it]"
     ]
    },
    {
     "name": "stdout",
     "output_type": "stream",
     "text": [
      "*****************当前平均损失为0.037725006766617296*****************\n"
     ]
    },
    {
     "name": "stderr",
     "output_type": "stream",
     "text": [
      "\n",
      "\n",
      " 10%|███▏                            | 5/50 [01:30<13:36, 18.15s/it]"
     ]
    },
    {
     "name": "stdout",
     "output_type": "stream",
     "text": [
      "*****************当前平均损失为0.03685885255783796*****************\n"
     ]
    },
    {
     "name": "stderr",
     "output_type": "stream",
     "text": [
      "\n",
      "\n",
      " 12%|███▊                            | 6/50 [01:49<13:23, 18.27s/it]"
     ]
    },
    {
     "name": "stdout",
     "output_type": "stream",
     "text": [
      "*****************当前平均损失为0.03617659279704094*****************\n"
     ]
    },
    {
     "name": "stderr",
     "output_type": "stream",
     "text": [
      "\n",
      "\n",
      " 14%|████▍                           | 7/50 [02:08<13:13, 18.45s/it]"
     ]
    },
    {
     "name": "stdout",
     "output_type": "stream",
     "text": [
      "*****************当前平均损失为0.035506266839802264*****************\n"
     ]
    },
    {
     "name": "stderr",
     "output_type": "stream",
     "text": [
      "\n",
      "\n",
      " 16%|█████                           | 8/50 [02:26<12:55, 18.46s/it]"
     ]
    },
    {
     "name": "stdout",
     "output_type": "stream",
     "text": [
      "*****************当前平均损失为0.03485239341855049*****************\n"
     ]
    },
    {
     "name": "stderr",
     "output_type": "stream",
     "text": [
      "\n",
      "\n",
      " 18%|█████▊                          | 9/50 [02:45<12:40, 18.56s/it]"
     ]
    },
    {
     "name": "stdout",
     "output_type": "stream",
     "text": [
      "*****************当前平均损失为0.034249214999377726*****************\n"
     ]
    },
    {
     "name": "stderr",
     "output_type": "stream",
     "text": [
      "\n",
      "\n",
      " 20%|██████▏                        | 10/50 [03:04<12:27, 18.69s/it]"
     ]
    },
    {
     "name": "stdout",
     "output_type": "stream",
     "text": [
      "*****************当前平均损失为0.03358484707772732*****************\n"
     ]
    },
    {
     "name": "stderr",
     "output_type": "stream",
     "text": [
      "\n",
      "\n",
      " 22%|██████▊                        | 11/50 [03:22<12:07, 18.66s/it]"
     ]
    },
    {
     "name": "stdout",
     "output_type": "stream",
     "text": [
      "*****************当前平均损失为0.03300699384510517*****************\n"
     ]
    },
    {
     "name": "stderr",
     "output_type": "stream",
     "text": [
      "\n",
      "\n",
      " 24%|███████▍                       | 12/50 [03:41<11:48, 18.66s/it]"
     ]
    },
    {
     "name": "stdout",
     "output_type": "stream",
     "text": [
      "*****************当前平均损失为0.032512290135025976*****************\n"
     ]
    },
    {
     "name": "stderr",
     "output_type": "stream",
     "text": [
      "\n",
      "\n",
      " 26%|████████                       | 13/50 [04:00<11:30, 18.66s/it]"
     ]
    },
    {
     "name": "stdout",
     "output_type": "stream",
     "text": [
      "*****************当前平均损失为0.031885896138846875*****************\n"
     ]
    },
    {
     "name": "stderr",
     "output_type": "stream",
     "text": [
      "\n",
      "\n",
      " 28%|████████▋                      | 14/50 [04:19<11:12, 18.69s/it]"
     ]
    },
    {
     "name": "stdout",
     "output_type": "stream",
     "text": [
      "*****************当前平均损失为0.031341809779405594*****************\n"
     ]
    },
    {
     "name": "stderr",
     "output_type": "stream",
     "text": [
      "\n",
      "\n",
      " 30%|█████████▎                     | 15/50 [04:37<10:52, 18.65s/it]"
     ]
    },
    {
     "name": "stdout",
     "output_type": "stream",
     "text": [
      "*****************当前平均损失为0.030828842803835868*****************\n"
     ]
    },
    {
     "name": "stderr",
     "output_type": "stream",
     "text": [
      "\n",
      "\n",
      " 32%|█████████▉                     | 16/50 [04:56<10:31, 18.59s/it]"
     ]
    },
    {
     "name": "stdout",
     "output_type": "stream",
     "text": [
      "*****************当前平均损失为0.03038237453252077*****************\n"
     ]
    },
    {
     "name": "stderr",
     "output_type": "stream",
     "text": [
      "\n",
      "\n",
      " 34%|██████████▌                    | 17/50 [05:14<10:14, 18.61s/it]"
     ]
    },
    {
     "name": "stdout",
     "output_type": "stream",
     "text": [
      "*****************当前平均损失为0.029894930675625802*****************\n"
     ]
    },
    {
     "name": "stderr",
     "output_type": "stream",
     "text": [
      "\n",
      "\n",
      " 36%|███████████▏                   | 18/50 [05:31<09:40, 18.15s/it]"
     ]
    },
    {
     "name": "stdout",
     "output_type": "stream",
     "text": [
      "*****************当前平均损失为0.029401722706854344*****************\n"
     ]
    },
    {
     "name": "stderr",
     "output_type": "stream",
     "text": [
      "\n",
      "\n",
      " 38%|███████████▊                   | 19/50 [05:48<09:07, 17.65s/it]"
     ]
    },
    {
     "name": "stdout",
     "output_type": "stream",
     "text": [
      "*****************当前平均损失为0.028962727040052413*****************\n"
     ]
    },
    {
     "name": "stderr",
     "output_type": "stream",
     "text": [
      "\n",
      "\n",
      " 40%|████████████▍                  | 20/50 [06:07<09:01, 18.03s/it]"
     ]
    },
    {
     "name": "stdout",
     "output_type": "stream",
     "text": [
      "*****************当前平均损失为0.028486435778439043*****************\n"
     ]
    },
    {
     "name": "stderr",
     "output_type": "stream",
     "text": [
      "\n",
      "\n",
      " 42%|█████████████                  | 21/50 [06:26<08:57, 18.53s/it]"
     ]
    },
    {
     "name": "stdout",
     "output_type": "stream",
     "text": [
      "*****************当前平均损失为0.028019602254033087*****************\n"
     ]
    },
    {
     "name": "stderr",
     "output_type": "stream",
     "text": [
      "\n",
      "\n",
      " 44%|█████████████▋                 | 22/50 [06:46<08:47, 18.84s/it]"
     ]
    },
    {
     "name": "stdout",
     "output_type": "stream",
     "text": [
      "*****************当前平均损失为0.02763336029648781*****************\n"
     ]
    },
    {
     "name": "stderr",
     "output_type": "stream",
     "text": [
      "\n",
      "\n",
      " 46%|██████████████▎                | 23/50 [07:06<08:39, 19.24s/it]"
     ]
    },
    {
     "name": "stdout",
     "output_type": "stream",
     "text": [
      "*****************当前平均损失为0.027186830043792725*****************\n"
     ]
    },
    {
     "name": "stderr",
     "output_type": "stream",
     "text": [
      "\n",
      "\n",
      " 48%|██████████████▉                | 24/50 [07:26<08:27, 19.53s/it]"
     ]
    },
    {
     "name": "stdout",
     "output_type": "stream",
     "text": [
      "*****************当前平均损失为0.02676933743059635*****************\n"
     ]
    },
    {
     "name": "stderr",
     "output_type": "stream",
     "text": [
      "\n",
      "\n",
      " 50%|███████████████▌               | 25/50 [07:46<08:10, 19.62s/it]"
     ]
    },
    {
     "name": "stdout",
     "output_type": "stream",
     "text": [
      "*****************当前平均损失为0.026346015207469462*****************\n"
     ]
    },
    {
     "name": "stderr",
     "output_type": "stream",
     "text": [
      "\n",
      "\n",
      " 52%|████████████████               | 26/50 [08:06<07:52, 19.69s/it]"
     ]
    },
    {
     "name": "stdout",
     "output_type": "stream",
     "text": [
      "*****************当前平均损失为0.025990711648017167*****************\n"
     ]
    },
    {
     "name": "stderr",
     "output_type": "stream",
     "text": [
      "\n",
      "\n",
      " 54%|████████████████▋              | 27/50 [08:23<07:16, 18.98s/it]"
     ]
    },
    {
     "name": "stdout",
     "output_type": "stream",
     "text": [
      "*****************当前平均损失为0.025532921008765697*****************\n"
     ]
    },
    {
     "name": "stderr",
     "output_type": "stream",
     "text": [
      "\n",
      "\n",
      " 56%|█████████████████▎             | 28/50 [08:41<06:48, 18.56s/it]"
     ]
    },
    {
     "name": "stdout",
     "output_type": "stream",
     "text": [
      "*****************当前平均损失为0.025213239818811416*****************\n"
     ]
    },
    {
     "name": "stderr",
     "output_type": "stream",
     "text": [
      "\n",
      "\n",
      " 58%|█████████████████▉             | 29/50 [08:57<06:16, 17.93s/it]"
     ]
    },
    {
     "name": "stdout",
     "output_type": "stream",
     "text": [
      "*****************当前平均损失为0.02478914751857519*****************\n"
     ]
    },
    {
     "name": "stderr",
     "output_type": "stream",
     "text": [
      "\n",
      "\n",
      " 60%|██████████████████▌            | 30/50 [09:14<05:52, 17.63s/it]"
     ]
    },
    {
     "name": "stdout",
     "output_type": "stream",
     "text": [
      "*****************当前平均损失为0.024460068117827177*****************\n"
     ]
    },
    {
     "name": "stderr",
     "output_type": "stream",
     "text": [
      "\n",
      "\n",
      " 62%|███████████████████▏           | 31/50 [09:32<05:36, 17.72s/it]"
     ]
    },
    {
     "name": "stdout",
     "output_type": "stream",
     "text": [
      "*****************当前平均损失为0.024050110414624213*****************\n"
     ]
    },
    {
     "name": "stderr",
     "output_type": "stream",
     "text": [
      "\n",
      "\n",
      " 64%|███████████████████▊           | 32/50 [09:50<05:21, 17.83s/it]"
     ]
    },
    {
     "name": "stdout",
     "output_type": "stream",
     "text": [
      "*****************当前平均损失为0.02371783949434757*****************\n"
     ]
    },
    {
     "name": "stderr",
     "output_type": "stream",
     "text": [
      "\n",
      "\n",
      " 66%|████████████████████▍          | 33/50 [10:08<05:04, 17.89s/it]"
     ]
    },
    {
     "name": "stdout",
     "output_type": "stream",
     "text": [
      "*****************当前平均损失为0.023328175347298384*****************\n"
     ]
    },
    {
     "name": "stderr",
     "output_type": "stream",
     "text": [
      "\n",
      "\n",
      " 68%|█████████████████████          | 34/50 [10:27<04:48, 18.05s/it]"
     ]
    },
    {
     "name": "stdout",
     "output_type": "stream",
     "text": [
      "*****************当前平均损失为0.02303036541491747*****************\n"
     ]
    },
    {
     "name": "stderr",
     "output_type": "stream",
     "text": [
      "\n",
      "\n",
      " 70%|█████████████████████▋         | 35/50 [10:46<04:34, 18.28s/it]"
     ]
    },
    {
     "name": "stdout",
     "output_type": "stream",
     "text": [
      "*****************当前平均损失为0.022676028694957495*****************\n"
     ]
    },
    {
     "name": "stderr",
     "output_type": "stream",
     "text": [
      "\n",
      "\n",
      " 72%|██████████████████████▎        | 36/50 [11:05<04:18, 18.48s/it]"
     ]
    },
    {
     "name": "stdout",
     "output_type": "stream",
     "text": [
      "*****************当前平均损失为0.022351771280169488*****************\n"
     ]
    },
    {
     "name": "stderr",
     "output_type": "stream",
     "text": [
      "\n",
      "\n",
      " 74%|██████████████████████▉        | 37/50 [11:23<04:00, 18.50s/it]"
     ]
    },
    {
     "name": "stdout",
     "output_type": "stream",
     "text": [
      "*****************当前平均损失为0.0220575595498085*****************\n"
     ]
    },
    {
     "name": "stderr",
     "output_type": "stream",
     "text": [
      "\n",
      "\n",
      " 76%|███████████████████████▌       | 38/50 [11:39<03:31, 17.60s/it]"
     ]
    },
    {
     "name": "stdout",
     "output_type": "stream",
     "text": [
      "*****************当前平均损失为0.02174130654335022*****************\n"
     ]
    },
    {
     "name": "stderr",
     "output_type": "stream",
     "text": [
      "\n",
      "\n",
      " 78%|████████████████████████▏      | 39/50 [11:52<03:00, 16.36s/it]"
     ]
    },
    {
     "name": "stdout",
     "output_type": "stream",
     "text": [
      "*****************当前平均损失为0.021417876034975053*****************\n"
     ]
    },
    {
     "name": "stderr",
     "output_type": "stream",
     "text": [
      "\n",
      "\n",
      " 80%|████████████████████████▊      | 40/50 [12:10<02:47, 16.71s/it]"
     ]
    },
    {
     "name": "stdout",
     "output_type": "stream",
     "text": [
      "*****************当前平均损失为0.021114801045507194*****************\n"
     ]
    },
    {
     "name": "stderr",
     "output_type": "stream",
     "text": [
      "\n",
      "\n",
      " 82%|█████████████████████████▍     | 41/50 [12:27<02:32, 16.91s/it]"
     ]
    },
    {
     "name": "stdout",
     "output_type": "stream",
     "text": [
      "*****************当前平均损失为0.020807139325886966*****************\n"
     ]
    },
    {
     "name": "stderr",
     "output_type": "stream",
     "text": [
      "\n",
      "\n",
      " 84%|██████████████████████████     | 42/50 [12:45<02:17, 17.18s/it]"
     ]
    },
    {
     "name": "stdout",
     "output_type": "stream",
     "text": [
      "*****************当前平均损失为0.020538226917386056*****************\n"
     ]
    },
    {
     "name": "stderr",
     "output_type": "stream",
     "text": [
      "\n",
      "\n",
      " 86%|██████████████████████████▋    | 43/50 [13:02<02:00, 17.19s/it]"
     ]
    },
    {
     "name": "stdout",
     "output_type": "stream",
     "text": [
      "*****************当前平均损失为0.02025336992368102*****************\n"
     ]
    },
    {
     "name": "stderr",
     "output_type": "stream",
     "text": [
      "\n",
      "\n",
      " 88%|███████████████████████████▎   | 44/50 [13:20<01:44, 17.50s/it]"
     ]
    },
    {
     "name": "stdout",
     "output_type": "stream",
     "text": [
      "*****************当前平均损失为0.019995070610195398*****************\n"
     ]
    },
    {
     "name": "stderr",
     "output_type": "stream",
     "text": [
      "\n",
      "\n",
      " 90%|███████████████████████████▉   | 45/50 [13:38<01:28, 17.63s/it]"
     ]
    },
    {
     "name": "stdout",
     "output_type": "stream",
     "text": [
      "*****************当前平均损失为0.01966900209337473*****************\n"
     ]
    },
    {
     "name": "stderr",
     "output_type": "stream",
     "text": [
      "\n",
      "\n",
      " 92%|████████████████████████████▌  | 46/50 [13:55<01:10, 17.53s/it]"
     ]
    },
    {
     "name": "stdout",
     "output_type": "stream",
     "text": [
      "*****************当前平均损失为0.019448834951967*****************\n"
     ]
    },
    {
     "name": "stderr",
     "output_type": "stream",
     "text": [
      "\n",
      "\n",
      " 94%|█████████████████████████████▏ | 47/50 [14:13<00:52, 17.49s/it]"
     ]
    },
    {
     "name": "stdout",
     "output_type": "stream",
     "text": [
      "*****************当前平均损失为0.019166530340909958*****************\n"
     ]
    },
    {
     "name": "stderr",
     "output_type": "stream",
     "text": [
      "\n",
      "\n",
      " 96%|█████████████████████████████▊ | 48/50 [14:29<00:34, 17.02s/it]"
     ]
    },
    {
     "name": "stdout",
     "output_type": "stream",
     "text": [
      "*****************当前平均损失为0.01890932559221983*****************\n"
     ]
    },
    {
     "name": "stderr",
     "output_type": "stream",
     "text": [
      "\n",
      "\n",
      " 98%|██████████████████████████████▍| 49/50 [14:44<00:16, 16.53s/it]"
     ]
    },
    {
     "name": "stdout",
     "output_type": "stream",
     "text": [
      "*****************当前平均损失为0.01866672583296895*****************\n"
     ]
    },
    {
     "name": "stderr",
     "output_type": "stream",
     "text": [
      "\n",
      "\n",
      "100%|███████████████████████████████| 50/50 [15:54<00:00, 32.59s/it]\n",
      "\n"
     ]
    }
   ],
   "source": [
    "num_epoch = 50  \n",
    "for epoch in tqdm(range(num_epoch)):\n",
    "    losses = 0.0\n",
    "    for data in trainloader:\n",
    "        inputs, labels = data\n",
    "        #inputs, labels = Variable(inputs), Variable(labels)\n",
    "        optimizer.zero_grad()\n",
    "        outputs = net(inputs)\n",
    "        loss = loss_function(outputs, labels)\n",
    "        loss.backward()\n",
    "        optimizer.step()\n",
    "        losses += loss.data.item()\n",
    "    print(\"*****************当前平均损失为{}*****************\".format(losses/2000.0))"
   ]
  },
  {
   "cell_type": "markdown",
   "metadata": {
    "heading_collapsed": true
   },
   "source": [
    "### 测试模型拟合效果"
   ]
  },
  {
   "cell_type": "code",
   "execution_count": 88,
   "metadata": {
    "ExecuteTime": {
     "end_time": "2019-08-15T15:31:24.963482Z",
     "start_time": "2019-08-15T15:31:23.686922Z"
    },
    "hidden": true
   },
   "outputs": [
    {
     "name": "stdout",
     "output_type": "stream",
     "text": [
      "预测准确率为：9524/10000\n"
     ]
    }
   ],
   "source": [
    "correct = 0\n",
    "total = 0 \n",
    "for data in testloader:\n",
    "    images, labels = data \n",
    "    outputs = net(Variable(images))\n",
    "    _, predicted = torch.max(outputs.data, 1)\n",
    "    total += labels.size(0) \n",
    "    correct += (predicted == labels).sum()\n",
    "print(\"预测准确率为：{}/{}\".format(correct, total))"
   ]
  },
  {
   "cell_type": "markdown",
   "metadata": {
    "heading_collapsed": true
   },
   "source": [
    "### 保存和加载模型"
   ]
  },
  {
   "cell_type": "code",
   "execution_count": null,
   "metadata": {
    "ExecuteTime": {
     "end_time": "2019-08-15T15:39:07.560668Z",
     "start_time": "2019-08-15T15:39:07.398883Z"
    },
    "hidden": true
   },
   "outputs": [],
   "source": [
    "# 保存整个网络\n",
    "torch.save(net, 'mnist_net_all.pkl') \n",
    "# 保存网络中的参数, 速度快，占空间少\n",
    "torch.save(net.state_dict(),'mnist_net_param.pkl')\n",
    "#针对上面一般的保存方法，加载的方法分别是：\n",
    "#model_dict=torch.load(PATH)\n",
    "#model_dict=model.load_state_dict(torch.load(PATH))"
   ]
  },
  {
   "cell_type": "code",
   "execution_count": 41,
   "metadata": {
    "ExecuteTime": {
     "end_time": "2019-08-16T08:59:57.142970Z",
     "start_time": "2019-08-16T08:59:56.944503Z"
    },
    "hidden": true
   },
   "outputs": [
    {
     "name": "stdout",
     "output_type": "stream",
     "text": [
      "预测值为：6\n"
     ]
    },
    {
     "data": {
      "text/plain": [
       "<matplotlib.image.AxesImage at 0x202c68176d8>"
      ]
     },
     "execution_count": 41,
     "metadata": {},
     "output_type": "execute_result"
    },
    {
     "data": {
      "image/png": "[encoded data removed]",
      "text/plain": [
       "<Figure size 432x288 with 1 Axes>"
      ]
     },
     "metadata": {
      "needs_background": "light"
     },
     "output_type": "display_data"
    }
   ],
   "source": [
    "net = torch.load('mnist_net_all.pkl') # 加载模型\n",
    "\n",
    "index = 100 # 选择测试样本\n",
    "image = testdata[index][0]\n",
    "label = testdata[index][1]\n",
    "\n",
    "outputs = net(Variable(image))\n",
    "predicted = torch.max(outputs.data,0)[1]\n",
    "print('预测值为：{}'.format(predicted))\n",
    "\n",
    "image.resize_(28,28)\n",
    "img = transforms.ToPILImage()(image)\n",
    "plt.imshow(img)"
   ]
  },
  {
   "cell_type": "markdown",
   "metadata": {
    "heading_collapsed": true
   },
   "source": [
    "### FGSM对抗样本"
   ]
  },
  {
   "cell_type": "code",
   "execution_count": 47,
   "metadata": {
    "ExecuteTime": {
     "end_time": "2019-08-16T09:15:58.111483Z",
     "start_time": "2019-08-16T09:15:57.855579Z"
    },
    "hidden": true
   },
   "outputs": [
    {
     "name": "stdout",
     "output_type": "stream",
     "text": [
      "预测值为：2\n"
     ]
    },
    {
     "data": {
      "text/plain": [
       "<matplotlib.image.AxesImage at 0x202c8eec550>"
      ]
     },
     "execution_count": 47,
     "metadata": {},
     "output_type": "execute_result"
    },
    {
     "data": {
      "image/png": "[encoded data removed]",
      "text/plain": [
       "<Figure size 432x288 with 1 Axes>"
      ]
     },
     "metadata": {
      "needs_background": "light"
     },
     "output_type": "display_data"
    }
   ],
   "source": [
    "index = 100 # 选择测试样本\n",
    "image = Variable(testdata[index][0].resize_(1,784), requires_grad=True)\n",
    "label = torch.tensor([testdata[index][1]])\n",
    "outputs = net(image)\n",
    "loss = loss_function(outputs, label)\n",
    "loss.backward()\n",
    "\n",
    "# FGSM添加扰动\n",
    "epsilon = 0.1 # 扰动程度\n",
    "x_grad = torch.sign(image.grad.data)\n",
    "x_adversarial = torch.clamp(image.data + epsilon * x_grad, 0, 1) \n",
    "\n",
    "# 使用之前建立的模型对扰动后的图片数据进行分类\n",
    "outputs = net(x_adversarial)\n",
    "predicted = torch.max(outputs.data,1)[1] #outputs含有梯度值，其处理方式与之前有所不同\n",
    "print('预测值为：{}'.format(predicted[0]))\n",
    "\n",
    "# 展示扰动之后的图片\n",
    "x_adversarial.resize_(28,28)\n",
    "img = transforms.ToPILImage()(x_adversarial)\n",
    "plt.imshow(img)"
   ]
  },
  {
   "cell_type": "markdown",
   "metadata": {
    "heading_collapsed": true
   },
   "source": [
    "### Deepfool对抗样本"
   ]
  },
  {
   "cell_type": "code",
   "execution_count": 29,
   "metadata": {
    "ExecuteTime": {
     "end_time": "2019-08-21T14:08:40.262762Z",
     "start_time": "2019-08-21T14:08:40.252784Z"
    },
    "hidden": true
   },
   "outputs": [],
   "source": [
    "net = torch.load('mnist_net_all.pkl') # 加载模型\n",
    "index = 12 # 选择测试样本\n",
    "image = Variable(testdata[index][0].resize_(1,784), requires_grad=True)\n",
    "label = torch.tensor([testdata[index][1]])"
   ]
  },
  {
   "cell_type": "code",
   "execution_count": 30,
   "metadata": {
    "ExecuteTime": {
     "end_time": "2019-08-21T14:08:41.071562Z",
     "start_time": "2019-08-21T14:08:41.062587Z"
    },
    "hidden": true
   },
   "outputs": [],
   "source": [
    "f_image = net.forward(image).data.numpy().flatten()\n",
    "I = (np.array(f_image)).flatten().argsort()[::-1]\n",
    "label = I[0]\n",
    "\n",
    "input_shape = image.data.numpy().shape\n",
    "pert_image = copy.deepcopy(image)\n",
    "w = np.zeros(input_shape)\n",
    "r_tot = np.zeros(input_shape)\n",
    "\n",
    "loop_i = 0\n",
    "max_iter = 50\n",
    "overshoot = 0.0\n",
    "\n",
    "x = Variable(pert_image, requires_grad=True)\n",
    "fs = net.forward(x)\n",
    "fs_list = [fs[0][I[k]] for k in range(len(I))]\n",
    "k_i = label"
   ]
  },
  {
   "cell_type": "code",
   "execution_count": 32,
   "metadata": {
    "ExecuteTime": {
     "end_time": "2019-08-21T14:08:42.556589Z",
     "start_time": "2019-08-21T14:08:42.533654Z"
    },
    "collapsed": true,
    "hidden": true
   },
   "outputs": [
    {
     "name": "stderr",
     "output_type": "stream",
     "text": [
      "E:\\Anaconda\\lib\\site-packages\\ipykernel_launcher.py:17: RuntimeWarning: invalid value encountered in float_scalars\n",
      "E:\\Anaconda\\lib\\site-packages\\ipykernel_launcher.py:18: RuntimeWarning: invalid value encountered in less\n"
     ]
    }
   ],
   "source": [
    "while k_i == label and loop_i < max_iter:\n",
    "    pert = np.inf\n",
    "    fs[0][I[0]].backward(retain_graph=True)\n",
    "    orig_grad = x.grad.data.numpy().copy()\n",
    "    \n",
    "    for k in range(len(I)):\n",
    "        zero_gradients(x)\n",
    "        fs[0][I[k]].backward(retain_graph=True)\n",
    "        cur_grad = x.grad.data.numpy().copy()\n",
    "        \n",
    "        w_k = cur_grad - orig_grad\n",
    "        f_k = (fs[0][I[k]] - fs[0][I[0]]).data.numpy()\n",
    "        \n",
    "        pert_k = abs(f_k) / np.linalg.norm(w_k.flatten())\n",
    "        if pert_k < pert:\n",
    "            pert = pert_k\n",
    "            w = w_k\n",
    "    r_i = (pert + 1e-4) * w / np.linalg.norm(w)\n",
    "    r_tot = np.float32(r_tot + r_i)\n",
    "    \n",
    "    pert_image = image + (1+overshoot)*torch.from_numpy(r_tot)\n",
    "    x = Variable(pert_image, requires_grad=True)\n",
    "    fs = net.forward(x)\n",
    "    k_i = np.argmax(fs.data.numpy().flatten())\n",
    "    loop_i += 1\n",
    "r_tot = (1+overshoot)*r_tot"
   ]
  },
  {
   "cell_type": "code",
   "execution_count": 33,
   "metadata": {
    "ExecuteTime": {
     "end_time": "2019-08-21T14:08:43.440225Z",
     "start_time": "2019-08-21T14:08:43.245780Z"
    },
    "collapsed": true,
    "hidden": true
   },
   "outputs": [
    {
     "name": "stdout",
     "output_type": "stream",
     "text": [
      "预测值为：4\n"
     ]
    },
    {
     "data": {
      "text/plain": [
       "<matplotlib.image.AxesImage at 0x2a966382358>"
      ]
     },
     "execution_count": 33,
     "metadata": {},
     "output_type": "execute_result"
    },
    {
     "data": {
      "image/png": "[encoded data removed]",
      "text/plain": [
       "<Figure size 432x288 with 1 Axes>"
      ]
     },
     "metadata": {
      "needs_background": "light"
     },
     "output_type": "display_data"
    }
   ],
   "source": [
    "outputs = net(pert_image.data.resize_(1,784))\n",
    "predicted = torch.max(outputs.data,1)[1] #outputs含有梯度值，其处理方式与之前有所不同\n",
    "print('预测值为：{}'.format(predicted[0]))\n",
    "\n",
    "pert_image.data.resize_(28,28)\n",
    "img = transforms.ToPILImage()(pert_image)\n",
    "plt.imshow(img)\n"
   ]
  }
 ],
 "metadata": {
  "kernelspec": {
   "display_name": "Python 3",
   "language": "python",
   "name": "python3"
  },
  "language_info": {
   "codemirror_mode": {
    "name": "ipython",
    "version": 3
   },
   "file_extension": ".py",
   "mimetype": "text/x-python",
   "name": "python",
   "nbconvert_exporter": "python",
   "pygments_lexer": "ipython3",
   "version": "3.7.1"
  },
  "toc": {
   "base_numbering": 1,
   "nav_menu": {},
   "number_sections": true,
   "sideBar": true,
   "skip_h1_title": false,
   "title_cell": "Table of Contents",
   "title_sidebar": "Contents",
   "toc_cell": false,
   "toc_position": {},
   "toc_section_display": true,
   "toc_window_display": false
  },
  "varInspector": {
   "cols": {
    "lenName": 16,
    "lenType": 16,
    "lenVar": 40
   },
   "kernels_config": {
    "python": {
     "delete_cmd_postfix": "",
     "delete_cmd_prefix": "del ",
     "library": "var_list.py",
     "varRefreshCmd": "print(var_dic_list())"
    },
    "r": {
     "delete_cmd_postfix": ") ",
     "delete_cmd_prefix": "rm(",
     "library": "var_list.r",
     "varRefreshCmd": "cat(var_dic_list()) "
    }
   },
   "oldHeight": 311.333666,
   "position": {
    "height": "40px",
    "left": "342px",
    "right": "20px",
    "top": "56px",
    "width": "800px"
   },
   "types_to_exclude": [
    "module",
    "function",
    "builtin_function_or_method",
    "instance",
    "_Feature"
   ],
   "varInspector_section_display": "none",
   "window_display": true
  }
 },
 "nbformat": 4,
 "nbformat_minor": 2
}
